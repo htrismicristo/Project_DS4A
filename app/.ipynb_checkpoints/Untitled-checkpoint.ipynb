{
 "cells": [
  {
   "cell_type": "code",
   "execution_count": 1,
   "metadata": {},
   "outputs": [
    {
     "name": "stdout",
     "output_type": "stream",
     "text": [
      "<class 'pandas.core.frame.DataFrame'>\n",
      "RangeIndex: 418 entries, 0 to 417\n",
      "Data columns (total 15 columns):\n",
      " #   Column                                        Non-Null Count  Dtype  \n",
      "---  ------                                        --------------  -----  \n",
      " 0   Fecha                                         418 non-null    object \n",
      " 1   Red de distribución de anuncios               418 non-null    object \n",
      " 2   Tipo de concordancia de la consulta           418 non-null    object \n",
      " 3   Impresiones                                   418 non-null    int64  \n",
      " 4   Clics de AdX                                  418 non-null    int64  \n",
      " 5   Coste                                         418 non-null    float64\n",
      " 6   CPM                                           418 non-null    float64\n",
      " 7   CPC                                           418 non-null    float64\n",
      " 8   CTR                                           418 non-null    float64\n",
      " 9   Coste por transacción                         418 non-null    float64\n",
      " 10  Coste por conversión de objetivo              418 non-null    float64\n",
      " 11  Coste por conversión                          418 non-null    float64\n",
      " 12  RPC                                           418 non-null    float64\n",
      " 13  Retorno de la inversión en publicidad (ROAS)  418 non-null    float64\n",
      " 14  day                                           418 non-null    object \n",
      "dtypes: float64(9), int64(2), object(4)\n",
      "memory usage: 49.1+ KB\n"
     ]
    }
   ],
   "source": [
    "import pandas as pd\n",
    "df=pd.read_csv('Adwords2.csv')\n",
    "df.info()"
   ]
  },
  {
   "cell_type": "code",
   "execution_count": 2,
   "metadata": {},
   "outputs": [
    {
     "data": {
      "text/plain": [
       "0      2020-01-30\n",
       "1      2020-01-30\n",
       "2      2020-01-31\n",
       "3      2020-01-31\n",
       "4      2020-01-01\n",
       "          ...    \n",
       "413    2020-01-31\n",
       "414    2020-01-31\n",
       "415    2020-01-31\n",
       "416    2020-01-31\n",
       "417    2020-01-31\n",
       "Name: Fecha, Length: 418, dtype: object"
      ]
     },
     "execution_count": 2,
     "metadata": {},
     "output_type": "execute_result"
    }
   ],
   "source": [
    "df['Fecha']=pd.to_datetime(df['Fecha'], format='%Y-%m-%d %H:%M:%S')\n",
    "df['Fecha']=df['Fecha'].dt.date\n",
    "df['Fecha']"
   ]
  },
  {
   "cell_type": "code",
   "execution_count": 3,
   "metadata": {},
   "outputs": [
    {
     "name": "stdout",
     "output_type": "stream",
     "text": [
      "<class 'pandas.core.frame.DataFrame'>\n",
      "RangeIndex: 418 entries, 0 to 417\n",
      "Data columns (total 15 columns):\n",
      " #   Column                                        Non-Null Count  Dtype  \n",
      "---  ------                                        --------------  -----  \n",
      " 0   Fecha                                         418 non-null    object \n",
      " 1   Red de distribución de anuncios               418 non-null    object \n",
      " 2   Tipo de concordancia de la consulta           418 non-null    object \n",
      " 3   Impresiones                                   418 non-null    int64  \n",
      " 4   Clics de AdX                                  418 non-null    int64  \n",
      " 5   Coste                                         418 non-null    float64\n",
      " 6   CPM                                           418 non-null    float64\n",
      " 7   CPC                                           418 non-null    float64\n",
      " 8   CTR                                           418 non-null    float64\n",
      " 9   Coste por transacción                         418 non-null    float64\n",
      " 10  Coste por conversión de objetivo              418 non-null    float64\n",
      " 11  Coste por conversión                          418 non-null    float64\n",
      " 12  RPC                                           418 non-null    float64\n",
      " 13  Retorno de la inversión en publicidad (ROAS)  418 non-null    float64\n",
      " 14  day                                           418 non-null    object \n",
      "dtypes: float64(9), int64(2), object(4)\n",
      "memory usage: 49.1+ KB\n"
     ]
    }
   ],
   "source": [
    "df.info()"
   ]
  },
  {
   "cell_type": "code",
   "execution_count": 4,
   "metadata": {},
   "outputs": [],
   "source": [
    "df.to_csv (r'Adwords2.csv', index = False, header=True)"
   ]
  }
 ],
 "metadata": {
  "kernelspec": {
   "display_name": "Python 3",
   "language": "python",
   "name": "python3"
  },
  "language_info": {
   "codemirror_mode": {
    "name": "ipython",
    "version": 3
   },
   "file_extension": ".py",
   "mimetype": "text/x-python",
   "name": "python",
   "nbconvert_exporter": "python",
   "pygments_lexer": "ipython3",
   "version": "3.8.3"
  }
 },
 "nbformat": 4,
 "nbformat_minor": 4
}
